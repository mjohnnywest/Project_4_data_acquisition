{
 "cells": [
  {
   "cell_type": "code",
   "execution_count": 1,
   "id": "ea8a2f6e-5d38-452a-aca7-6d095ab7c187",
   "metadata": {},
   "outputs": [],
   "source": [
    "# getting all imports out of the way first\n",
    "import pandas as pd\n",
    "import os\n",
    "import datetime as dt"
   ]
  },
  {
   "cell_type": "code",
   "execution_count": 2,
   "id": "1fdf01a3-93d0-4537-a324-2713794482cd",
   "metadata": {},
   "outputs": [],
   "source": [
    "# Creating a function giving user options for adding transactions\n",
    "def initialize():\n",
    "    print(\"Welcome! Select what you would like to do: \\n1. Enter recurring transactions\\n2. Enter one-time transactions\\n3. Upload a credit card statement\\n4. Finish and export data\\n5. Quit without saving\")\n",
    "    choice = int(input(\"Please enter a number from the menu above: \"))\n",
    "    \n",
    "    #setting up a standard DF for recurring and one-time transactions\n",
    "    recurring_df = pd.DataFrame(columns= recurring_columns)\n",
    "    \n",
    "    one_time_df = pd.DataFrame(columns= one_time_columns)\n",
    "    # giving the user the option to manually add statements, or upload their credit card statement\n",
    "    while True:\n",
    "        if choice == 1:\n",
    "            # Recurring transactions manual\n",
    "            recurring = recurring_transactions()\n",
    "            recurring_df = pd.concat([recurring, recurring_df], ignore_index=True)\n",
    "            print('-'*50)\n",
    "            choice = int(input(\"Please enter a number from the menu above \"))\n",
    "        \n",
    "        elif choice == 2:\n",
    "            # one time transactions manual\n",
    "            non_recurring = non_recurring_transactions()\n",
    "            one_time_df = pd.concat([one_time_df, non_recurring], ignore_index=True)\n",
    "            print('-'*50)\n",
    "            choice = int(input(\"Please enter a number from the menu above \"))\n",
    "        elif choice == 3:\n",
    "            # Card Statement Upload\n",
    "            statement = card_statement_upload()\n",
    "            one_time_df = pd.concat([one_time_df, statement], ignore_index=True)\n",
    "            choice = int(input(\"Please enter a number from the menu above \"))\n",
    "        elif choice == 4:\n",
    "            # Exporting dataframes\n",
    "            recurring_overwrite = input(print(\"Would you like to overwrite recurring transaction csv? (y/n) \"))\n",
    "            rec_output_path = \"./output/recurring_transactions.csv\"\n",
    "            ot_output_path = \"./output/one_time_transactions.csv\"\n",
    "            if recurring_overwrite.strip().lower() == \"y\":\n",
    "                recurring_df.to_csv(rec_output_path, index=False)\n",
    "            ot_overwrite = input(print(\"Would you like to overwrite one time transaction csv? (y/n) \"))\n",
    "        \n",
    "            if ot_overwrite.strip().lower() == \"y\":\n",
    "                one_time_df.to_csv(ot_output_path, index=False)\n",
    "            print(\"File(s) successfully exported!\")\n",
    "            break\n",
    "        elif choice == 5:\n",
    "            # Quit without saving\n",
    "            print('-'*50)\n",
    "            print(\"Data not Saved\")\n",
    "            break\n",
    "        else:\n",
    "            print('-'*50)\n",
    "            print(\"Please choose from the options\")\n",
    "            choice = int(input(\"Please enter a number from the menu above \"))"
   ]
  },
  {
   "cell_type": "code",
   "execution_count": 3,
   "id": "14357e54-41fa-4e53-b560-9c9b1999567b",
   "metadata": {},
   "outputs": [],
   "source": [
    "recurring_columns = [\"Date\", \"Type\", \"Fixed\", \"Sub-Categories\", \"Categories\", \"Who\", \"Travel\", \"Concept\", \"Amount USD\", \"Amount in LC\", \"Comments\", \"Exchange Rate\", \"Currency\", \"Payment Method\", \"Frequency\", \"~Monthly Cost\"]\n",
    "\n",
    "\n",
    "def recurring_transactions():\n",
    "    recurring = pd.DataFrame(columns=recurring_columns)\n",
    "    \n",
    "    while True:\n",
    "        start = input(\"Would you like to add a recurring transaction? Enter y/n: \")\n",
    "        if start.strip().lower() == \"n\":\n",
    "            break\n",
    "        else:\n",
    "            # Date input\n",
    "            date_input = input(\"Enter a date (MM/DD/YYYY): \")\n",
    "            try:\n",
    "                date_value = pd.to_datetime(date_input, format='%m/%d/%Y')\n",
    "                print(\"Success!\")\n",
    "                print(date_value)\n",
    "            except:\n",
    "                print(\"Invalid date format.\")\n",
    "                continue  # Skip to next iteration if date is invalid\n",
    "            \n",
    "            # User inputs\n",
    "            sub_cat = input(\"Enter a sub-category: \").strip().lower().title()\n",
    "            cat = input(\"Enter a category: \").strip().lower().title()\n",
    "            user = input(\"Enter who pays the transaction: \").strip().lower().title()\n",
    "            concept = input(\"Enter concept: \").strip()\n",
    "            amount = float(input(\"Enter the transaction amount: \"))\n",
    "            pmt_method = input(\"Enter the payment method: \").strip().lower().title()\n",
    "            frequency = input(\"Enter the frequency (e.g. Daily, weekly, monthly, yearly): \").strip().lower().title()\n",
    "            \n",
    "            # Calculate monthly cost based on frequency\n",
    "            frequency_lower = frequency.strip().lower()\n",
    "            if \"weekly\" in frequency_lower:\n",
    "                monthly_cost = amount * 4.33  # Average weeks per month\n",
    "            elif \"monthly\" in frequency_lower:\n",
    "                monthly_cost = amount\n",
    "            elif \"yearly\" in frequency_lower or \"annual\" in frequency_lower:\n",
    "                monthly_cost = amount / 12\n",
    "            elif \"daily\" in frequency_lower:\n",
    "                monthly_cost = amount * 30.44  # Average days per month\n",
    "            else:\n",
    "                # If frequency is not in specified list, ask user or default to the amount\n",
    "                monthly_cost = amount\n",
    "                print(f\"Unable to calculate monthly cost for frequency '{frequency}'. Using amount as-is.\")\n",
    "            \n",
    "            # Add the transaction to the DataFrame - using the NEW column names\n",
    "            new_transaction = pd.DataFrame({\n",
    "                \"Date\": [date_value],\n",
    "                \"Type\": [\"Expenses\"],\n",
    "                \"Fixed\": [True],\n",
    "                \"Sub-Categories\": [sub_cat],  # Changed from \"Sub-Category\"\n",
    "                \"Categories\": [cat],  # Changed from \"Category\"\n",
    "                \"Who\": [user],  # Changed from \"User\"\n",
    "                \"Travel\": [False],\n",
    "                \"Concept\": [concept],\n",
    "                \"Amount USD\": [amount],  # Changed from \"Amount ($)\"\n",
    "                \"Amount in LC\": [amount],\n",
    "                \"Comments\": [\"\"],\n",
    "                \"Exchange Rate\": [1],\n",
    "                \"Currency\": [\"USD\"],\n",
    "                \"Payment Method\": [pmt_method],\n",
    "                \"Frequency\": [frequency],\n",
    "                \"~Monthly Cost\": [monthly_cost]\n",
    "            })\n",
    "            \n",
    "            recurring = pd.concat([recurring, new_transaction], ignore_index=True)\n",
    "            \n",
    "            print(\"Recurring transaction successfully added!\")\n",
    "            print('-'*50)\n",
    "    \n",
    "    return recurring"
   ]
  },
  {
   "cell_type": "markdown",
   "id": "5bc43dd6-d77f-4a88-abed-846882a977ce",
   "metadata": {},
   "source": [
    "recurring_columns = [\"Type\" , \"Category\", \"Sub-Category\", \"User\", \"Amount ($)\", \"Frequency\", \"~Monthly Cost\", \"Payment Method\"]\n",
    "recurring_transactions()"
   ]
  },
  {
   "cell_type": "code",
   "execution_count": 5,
   "id": "07817218-5fec-4f9e-b71d-e3a5bf89819e",
   "metadata": {},
   "outputs": [],
   "source": [
    "one_time_columns = [\"Date\", \"Type\", \"Fixed\", \"Sub-Categories\", \"Categories\", \"Who\", \"Travel\", \"Concept\", \"Amount USD\", \"Amount in LC\", \"Comments\", \"Exchange Rate\", \"Currency\", \"Payment Method\", \"Frequency\", \"~Monthly Cost\"]\n",
    "\n",
    "def non_recurring_transactions():\n",
    "    non_recurring = pd.DataFrame(columns=one_time_columns)\n",
    "    while True:\n",
    "        start = input(\"Would you like to add a non-recurring transaction? Enter y/n\")\n",
    "        if start.strip().lower() == \"n\":\n",
    "            break\n",
    "        else: \n",
    "            date_input = input(\"Enter a date (MM/DD/YYYY): \")\n",
    "            try:\n",
    "                date_value = pd.to_datetime(date_input, format='%m/%d/%Y')\n",
    "                print(\"Success!\")\n",
    "                print(date_value)\n",
    "            except:\n",
    "                print(\"Invalid date format.\")\n",
    "                continue  # Skip to next iteration if date is invalid\n",
    "            \n",
    "            sub_cat = input(\"Enter a sub-category: \").strip().lower().title()\n",
    "            cat = input(\"Enter a category: \").strip().lower().title()\n",
    "            user = input(\"Enter who made the transaction: \").strip().lower().title()\n",
    "            \n",
    "            # Travel input\n",
    "            travel_input = input(\"Was this purchased while traveling? (y/n): \")\n",
    "            travel = True if travel_input.strip().lower() == \"y\" else False\n",
    "            \n",
    "            concept = input(\"Enter concept: \").strip()\n",
    "            comments = input(\"Enter comments (or leave blank): \").strip()\n",
    "            pmt_method = input(\"Enter the payment method: \").strip().lower().title()\n",
    "            \n",
    "            # Currency input\n",
    "            currency = input(\"Enter currency (e.g., USD, EUR, GBP): \").strip().upper()\n",
    "            \n",
    "            foreign = input(\"Is this transaction in USD ($)? Enter y/n: \")\n",
    "            \n",
    "            if foreign.strip().lower() == \"y\":\n",
    "                usd = float(input(\"Enter the transaction amount: \"))\n",
    "                # For USD transactions, no foreign currency data\n",
    "                amount_lc = usd\n",
    "                exchange_rate = 1\n",
    "            else:\n",
    "                foreign_currency = float(input(\"Enter the transaction amount in foreign currency: \"))\n",
    "                exchange_rate = float(input(\"Enter exchange rate to USD (i.e. FC --> USD): \"))\n",
    "                usd = foreign_currency * exchange_rate\n",
    "                amount_lc = foreign_currency\n",
    "            \n",
    "            # Add the transaction to the DataFrame - using the CORRECT column names\n",
    "            new_transaction = pd.DataFrame({\n",
    "                \"Date\": [date_value],\n",
    "                \"Type\": [\"Expenses\"],\n",
    "                \"Fixed\": [False],\n",
    "                \"Sub-Categories\": [sub_cat],  # Fixed: was \"Sub-Category\"\n",
    "                \"Categories\": [cat],  # Fixed: was \"Category\" \n",
    "                \"Who\": [user],  # Fixed: was \"User\"\n",
    "                \"Travel\": [travel],\n",
    "                \"Concept\": [concept],\n",
    "                \"Amount USD\": [usd],  # Fixed: was \"Amount ($)\"\n",
    "                \"Amount in LC\": [amount_lc],  # Fixed: was \"Amount (LC)\"\n",
    "                \"Comments\": [comments],\n",
    "                \"Exchange Rate\": [exchange_rate],  # Fixed: was \"Exchange Rate (if applicable)\"\n",
    "                \"Currency\": [currency],\n",
    "                \"Payment Method\": [pmt_method],\n",
    "                \"Frequency\": [\"\"],  # Blank\n",
    "                \"~Monthly Cost\": [\"\"]  # Blank\n",
    "            })\n",
    "            \n",
    "            non_recurring = pd.concat([non_recurring, new_transaction], ignore_index=True)\n",
    "            \n",
    "            print(\"Transaction Successfully added!\")\n",
    "            print('-'*50)\n",
    "    \n",
    "    return non_recurring"
   ]
  },
  {
   "cell_type": "markdown",
   "id": "c5e654df-204b-4cd2-ab30-da31a590a58a",
   "metadata": {},
   "source": [
    "one_time_columns = [\"Date\", \"Type\" , \"Category\", \"Sub-Category\", \"User\", \"Amount ($)\", \"Amount (LC)\", \"Exchange Rate\", \"Payment Method\"]\n",
    "non_recurring_transactions()"
   ]
  },
  {
   "cell_type": "code",
   "execution_count": 20,
   "id": "c7cd50a0-6b8f-4e93-9dac-b31541d21209",
   "metadata": {},
   "outputs": [],
   "source": [
    "def card_statement_upload():\n",
    "    # defines which user this is attributed to\n",
    "    user = input(\"Who's card statement is this?\")\n",
    "    print('-'*50)\n",
    "    while True:\n",
    "        filename = input('What is the name of the statement? (Type \"back\" to cancel)\\nFormat must include file extension (e.g. may_c1_transactions.csv): ')\n",
    "        \n",
    "        if filename.lower() == \"back\":\n",
    "            print(\"Operation cancelled by user.\")\n",
    "            return None  # Exit the function early\n",
    "    \n",
    "        elif filename.endswith(\".csv\"):\n",
    "            statement = pd.read_csv(f\"./statements/{filename}\")\n",
    "        elif filename.endswith((\".xls\", \".xlsx\")):\n",
    "            statement = pd.read_excel(f\"./statements/{filename}\")\n",
    "        else:\n",
    "            raise ValueError(\"File not found\")\n",
    "        \n",
    "        print(\"File successfully loaded.\")\n",
    "        \n",
    "        # Add all the new columns with proper values\n",
    "        statement[\"Type\"] = \"Expenses\"\n",
    "        statement[\"Fixed\"] = False\n",
    "        statement[\"Sub-Categories\"] = \"\"  # Blank\n",
    "        statement[\"Who\"] = user\n",
    "        statement[\"Travel\"] = \"\"  # Blank\n",
    "        statement[\"Concept\"] = \"\"  # Blank\n",
    "        statement[\"Amount in LC\"] = statement[\"Debit\"]  # Same as Amount USD\n",
    "        statement[\"Comments\"] = \"\"  # Blank\n",
    "        statement[\"Exchange Rate\"] = 1\n",
    "        statement[\"Currency\"] = \"USD\"\n",
    "        statement[\"Payment Method\"] = \"Card\"\n",
    "        statement[\"Frequency\"] = \"\"  # Blank\n",
    "        statement[\"~Monthly Cost\"] = \"\"  # Blank\n",
    "        \n",
    "        # Clean up the dataframe\n",
    "        statement = statement.dropna(subset=['Debit'])\n",
    "        statement = statement.drop(['Credit', 'Posted Date', 'Card No.'], axis=1)\n",
    "        \n",
    "        # Rename columns to match the new structure\n",
    "        statement.rename(columns={\n",
    "            \"Debit\": \"Amount USD\",\n",
    "            \"Transaction Date\": \"Date\",\n",
    "            \"Description\": \"Categories\"  # Assuming Description becomes Categories\n",
    "        }, inplace=True)\n",
    "        \n",
    "        # Reorder columns to match the specified order\n",
    "        column_order = [\"Date\", \"Type\", \"Fixed\", \"Sub-Categories\", \"Categories\", \"Who\", \"Travel\", \"Concept\", \"Amount USD\", \"Amount in LC\", \"Comments\", \"Exchange Rate\", \"Currency\", \"Payment Method\", \"Frequency\", \"~Monthly Cost\"]\n",
    "        statement = statement[column_order]\n",
    "        \n",
    "        return statement"
   ]
  },
  {
   "cell_type": "code",
   "execution_count": 22,
   "id": "06640de5-1dcd-4090-99cc-cc375a89f2b6",
   "metadata": {},
   "outputs": [],
   "source": [
    "# 03/03/2023"
   ]
  },
  {
   "cell_type": "code",
   "execution_count": 24,
   "id": "56b44b07-bb6e-4eb9-8db5-d13cd919a9f5",
   "metadata": {},
   "outputs": [],
   "source": [
    "# may_c1_transactions.csv"
   ]
  },
  {
   "cell_type": "code",
   "execution_count": 26,
   "id": "7f8302e3-d7d4-4c52-bf39-9bb84d8ea2da",
   "metadata": {},
   "outputs": [
    {
     "name": "stdout",
     "output_type": "stream",
     "text": [
      "Welcome! Select what you would like to do: \n",
      "1. Enter recurring transactions\n",
      "2. Enter one-time transactions\n",
      "3. Upload a credit card statement\n",
      "4. Finish and export data\n",
      "5. Quit without saving\n"
     ]
    },
    {
     "name": "stdin",
     "output_type": "stream",
     "text": [
      "Please enter a number from the menu above:  3\n",
      "Who's card statement is this? Matt\n"
     ]
    },
    {
     "name": "stdout",
     "output_type": "stream",
     "text": [
      "--------------------------------------------------\n"
     ]
    },
    {
     "name": "stdin",
     "output_type": "stream",
     "text": [
      "What is the name of the statement? (Type \"back\" to cancel)\n",
      "Format must include file extension (e.g. may_c1_transactions.csv):  may_c1_transactions.csv\n"
     ]
    },
    {
     "name": "stderr",
     "output_type": "stream",
     "text": [
      "C:\\Users\\mattw\\AppData\\Local\\Temp\\ipykernel_5424\\1372145042.py:28: FutureWarning: The behavior of DataFrame concatenation with empty or all-NA entries is deprecated. In a future version, this will no longer exclude empty or all-NA columns when determining the result dtypes. To retain the old behavior, exclude the relevant entries before the concat operation.\n",
      "  one_time_df = pd.concat([one_time_df, statement], ignore_index=True)\n"
     ]
    },
    {
     "name": "stdout",
     "output_type": "stream",
     "text": [
      "File successfully loaded.\n"
     ]
    },
    {
     "name": "stdin",
     "output_type": "stream",
     "text": [
      "Please enter a number from the menu above  4\n"
     ]
    },
    {
     "name": "stdout",
     "output_type": "stream",
     "text": [
      "Would you like to overwrite recurring transaction csv? (y/n) \n"
     ]
    },
    {
     "name": "stdin",
     "output_type": "stream",
     "text": [
      "None y\n"
     ]
    },
    {
     "name": "stdout",
     "output_type": "stream",
     "text": [
      "Would you like to overwrite one time transaction csv? (y/n) \n"
     ]
    },
    {
     "name": "stdin",
     "output_type": "stream",
     "text": [
      "None y\n"
     ]
    },
    {
     "name": "stdout",
     "output_type": "stream",
     "text": [
      "File(s) successfully exported!\n"
     ]
    }
   ],
   "source": [
    "recurring_columns = [\"Date\", \"Type\", \"Fixed\", \"Sub-Categories\", \"Categories\", \"Who\", \"Travel\", \"Concept\", \"Amount USD\", \"Amount in LC\", \"Comments\", \"Exchange Rate\", \"Currency\", \"Payment Method\", \"Frequency\", \"~Monthly Cost\"]\n",
    "one_time_columns = [\"Date\", \"Type\", \"Fixed\", \"Sub-Categories\", \"Categories\", \"Who\", \"Travel\", \"Concept\", \"Amount USD\", \"Amount in LC\", \"Comments\", \"Exchange Rate\", \"Currency\", \"Payment Method\", \"Frequency\", \"~Monthly Cost\"]\n",
    "initialize()\n"
   ]
  },
  {
   "cell_type": "code",
   "execution_count": null,
   "id": "e11ab824-b5a9-4877-99a1-6d1d9c557079",
   "metadata": {},
   "outputs": [],
   "source": []
  }
 ],
 "metadata": {
  "kernelspec": {
   "display_name": "Python [conda env:base] *",
   "language": "python",
   "name": "conda-base-py"
  },
  "language_info": {
   "codemirror_mode": {
    "name": "ipython",
    "version": 3
   },
   "file_extension": ".py",
   "mimetype": "text/x-python",
   "name": "python",
   "nbconvert_exporter": "python",
   "pygments_lexer": "ipython3",
   "version": "3.12.7"
  }
 },
 "nbformat": 4,
 "nbformat_minor": 5
}
